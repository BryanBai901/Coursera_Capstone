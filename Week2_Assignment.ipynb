{
 "cells": [
  {
   "cell_type": "markdown",
   "metadata": {},
   "source": [
    "### Clearly define a problem or an idea of your choice. Remember that data science problems always target an audience and are meant to help a group of stakeholders solve a problem, so make sure that you explicitly describe your audience and why they would care about your problem."
   ]
  },
  {
   "cell_type": "markdown",
   "metadata": {},
   "source": [
    "#### This submission will eventually become your Introduction/Business Problem section in your final report. So I recommend that you push the report (having your Introduction/Business Problem section only for now) to your Github repository and submit a link to it."
   ]
  },
  {
   "cell_type": "markdown",
   "metadata": {},
   "source": [
    "Answer: In this accident case study, we are trying to use machine learning model to find the high possibility of the causation of an accident and predict the severity. Some example problems that we can answer with the model could be will bad weather results in higher probability of an accident? Is accident related more to drivers' behavior such as inattention, drug usage, speeding,etc than to weather and road condition? Which type of accident will cause higher severity with more people involved or injured? From a government perspective, these result will be helpful in legislation such as set speedlimit in certain road, put warning and remind sign on the road, etc. Reducing in accident amount will result in higher efficiency in transportation and better use of government resource. From drivers' perspective, through the warning and remind sign, drivers will be driving more careful leading to less likelyhood of an accident and avoid traffic jam. Therefore, this case study with machine learning might benefit all the population in the city."
   ]
  },
  {
   "cell_type": "markdown",
   "metadata": {},
   "source": [
    "-----"
   ]
  },
  {
   "cell_type": "markdown",
   "metadata": {},
   "source": [
    "### Describe the data that you will be using to solve the problem or execute your idea. So make sure that you provide adequate explanation and discussion, with examples, of the data that you will be using."
   ]
  },
  {
   "cell_type": "markdown",
   "metadata": {},
   "source": [
    "#### This submission will eventually become your Data section in your final report. So I recommend that you push the report (having your Data section) to your Github repository and submit a link to it."
   ]
  },
  {
   "cell_type": "markdown",
   "metadata": {},
   "source": [
    "Answer: Firstly, we decide which variable can be an dependent variable. Since we are predicting the severity of an accident, the consequence of the accident is considered as dependent variable. In this case, dependent variable could be the following:\n",
    "- SEVERITYCODE (A code that corresponds to the severity of the collision), \n",
    "- COLLISIONTYPE (Collision type), \n",
    "- PERSONCOUNT (The total number of people involved in the collision),\n",
    "- SDOT_COLCODE (A code given to the collision by SDOT), \n",
    "- ST_COLCODE (A code provided by the state that describes the collision), \n",
    "- HITPARKEDCAR (Whether or not the collision involved hitting a parked car).\n",
    "\n",
    "Secondly, we make a decision on which variable can be used as independent variable as known as causation. In this case, I categorize them in three groups:\n",
    "1. Location and infrastructure\n",
    "- ADDRTYPE (Collision address type: Alley, Block, Intersection)\n",
    "- JUNCTIONTYPE (Category of junction at which collision took place)\n",
    "2. Natural factor\n",
    "- WEATHER(A description of the weather conditions during the time of the collision)\n",
    "- ROADCOND (The condition of the road during the collision)\n",
    "- LIGHTCOND (The light conditions during the collision)\n",
    "3. Driver factor\n",
    "- INATTENTIONIND (Whether or not collision was due to inattention)\n",
    "- UNDERINFL (Whether or not a driver involved was under the influence of drugs or alcohol）\n",
    "- SPEEDING (Whether or not speeding was a factor in the collision）\n",
    "\n",
    "Different Model will be implemented for different dependent variable. For example, for PERSONCOUNT prediction, as its an numeric variable, we can use linear regression to predict the person that involved in the collision. If we want to predict whether the accident type will result in injury, as SEVERITYCODE only has two categorical values, we can use logistic regression to predict the probability of each categories. We also want to find out what causation it is for different type of collision, COLLISIONTYPE, ST_COLCODE, SDOT_COLCODE contain numbers of unique values standing for different categories of collisions, we will use decision tree, KNN and other classification method to predict the them.\n",
    "\n"
   ]
  },
  {
   "cell_type": "code",
   "execution_count": null,
   "metadata": {},
   "outputs": [],
   "source": []
  }
 ],
 "metadata": {
  "kernelspec": {
   "display_name": "Python 3",
   "language": "python",
   "name": "python3"
  },
  "language_info": {
   "codemirror_mode": {
    "name": "ipython",
    "version": 3
   },
   "file_extension": ".py",
   "mimetype": "text/x-python",
   "name": "python",
   "nbconvert_exporter": "python",
   "pygments_lexer": "ipython3",
   "version": "3.8.3"
  }
 },
 "nbformat": 4,
 "nbformat_minor": 4
}
